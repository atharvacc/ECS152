{
 "cells": [
  {
   "cell_type": "code",
   "execution_count": 1,
   "metadata": {},
   "outputs": [],
   "source": [
    "#Import libraries\n",
    "import numpy as np\n",
    "import pandas as pd "
   ]
  },
  {
   "cell_type": "code",
   "execution_count": 99,
   "metadata": {},
   "outputs": [],
   "source": [
    "# Read in data \n",
    "inp = \"208.148.84.3\"\n",
    "df = pd.read_csv('DB_091803.txt', sep=\" \", header=None)\n",
    "df.columns = [\"Prefix\", \"Prefix_length\", \"AS\"]"
   ]
  },
  {
   "cell_type": "code",
   "execution_count": 132,
   "metadata": {},
   "outputs": [],
   "source": [
    "k = np.array(list(map(clean_prefix, df.Prefix.values.tolist())))"
   ]
  },
  {
   "cell_type": "code",
   "execution_count": 140,
   "metadata": {},
   "outputs": [
    {
     "data": {
      "text/plain": [
       "(155130, 3)"
      ]
     },
     "execution_count": 140,
     "metadata": {},
     "output_type": "execute_result"
    }
   ],
   "source": [
    "df.shape"
   ]
  },
  {
   "cell_type": "code",
   "execution_count": 143,
   "metadata": {},
   "outputs": [
    {
     "data": {
      "text/html": [
       "<div>\n",
       "<style scoped>\n",
       "    .dataframe tbody tr th:only-of-type {\n",
       "        vertical-align: middle;\n",
       "    }\n",
       "\n",
       "    .dataframe tbody tr th {\n",
       "        vertical-align: top;\n",
       "    }\n",
       "\n",
       "    .dataframe thead th {\n",
       "        text-align: right;\n",
       "    }\n",
       "</style>\n",
       "<table border=\"1\" class=\"dataframe\">\n",
       "  <thead>\n",
       "    <tr style=\"text-align: right;\">\n",
       "      <th></th>\n",
       "      <th>Prefix</th>\n",
       "      <th>Prefix_length</th>\n",
       "      <th>AS</th>\n",
       "    </tr>\n",
       "  </thead>\n",
       "  <tbody>\n",
       "    <tr>\n",
       "      <th>155129</th>\n",
       "      <td>255.255.254.0</td>\n",
       "      <td>24</td>\n",
       "      <td>5650</td>\n",
       "    </tr>\n",
       "  </tbody>\n",
       "</table>\n",
       "</div>"
      ],
      "text/plain": [
       "               Prefix  Prefix_length    AS\n",
       "155129  255.255.254.0             24  5650"
      ]
     },
     "execution_count": 143,
     "metadata": {},
     "output_type": "execute_result"
    }
   ],
   "source": [
    "df.iloc[155129:155130,:]"
   ]
  },
  {
   "cell_type": "code",
   "execution_count": 139,
   "metadata": {},
   "outputs": [
    {
     "data": {
      "text/plain": [
       "Prefix           4.17.106.0\n",
       "Prefix_length            24\n",
       "AS                    13832\n",
       "Name: 4, dtype: object"
      ]
     },
     "execution_count": 139,
     "metadata": {},
     "output_type": "execute_result"
    }
   ],
   "source": []
  },
  {
   "cell_type": "code",
   "execution_count": 256,
   "metadata": {},
   "outputs": [],
   "source": [
    "### Helper Functions\n",
    "def clean_prefix(prefix_string):\n",
    "    \"\"\"\n",
    "    clean_prefix: Takes in the prefix string, removes the \".\"s and returns an int.\n",
    "            Args:\n",
    "                (String) prefix_string: string to be cleant\n",
    "            Returns:\n",
    "                (int) clean_string: int with values of the prefix string\n",
    "    \"\"\"\n",
    "    clean_string = int(prefix_string.replace(\".\",\"\"))\n",
    "    return clean_string\n",
    "\n",
    "    \n",
    "\n",
    "def prefix_match(input_string, DB):\n",
    "    \"\"\"\n",
    "    prefix_match: Takes in an input string, and finds the longest prefix match\n",
    "            Args:\n",
    "                (String) input_string: input from for which to find the longest prefix match\n",
    "                (DataFrame) DB: DataBase containg a column prefix that contains all of the possible\n",
    "                                prefixes\n",
    "            Returns:\n",
    "                (DatFrame) output_df: Output DataFrame containing the closest prefix match\n",
    "                                      and its AS Number\n",
    "    \"\"\"\n",
    "    str_len = len(input_string)  # Find length of input string\n",
    "    output_df = DB[DB.Prefix.str.match(input_string[0])].reset_index(drop = True)  # Initialize DataFrame\n",
    "    m,_ = output_df.shape\n",
    "    if (m == 1):\n",
    "        return output_df\n",
    "    idx = 1\n",
    "    while( not(output_df.empty) and (idx<str_len+1)):\n",
    "        output_df = DB[DB.Prefix.str.match(input_string[0:idx])].reset_index(drop = True)\n",
    "        idx = idx +1\n",
    "    output_df = DB[DB.Prefix.str.match(input_string[0:idx-2])].reset_index(drop = True)\n",
    "    m,_ = output_df.shape\n",
    "    if (m == 1):\n",
    "        return output_df\n",
    "    output_df = distance_match(input_string, output_df)      \n",
    "    return output_df\n",
    "\n",
    "def distance_match(input_string, df_bestmatch):\n",
    "    \"\"\"\n",
    "    distance_match: Find the best match to input_string from df_bestmatch\n",
    "                Args:\n",
    "                     input_string: string for which to find the best match\n",
    "                     df_bestmatch: DataFrame with a prefix column containg the\n",
    "                                   potential candidates\n",
    "               Returns:\n",
    "                      output_df:  Row in dataframe with the best match \n",
    "    \"\"\"\n",
    "    clean_input = clean_prefix(input_string)\n",
    "    int_bestmatch = np.array(list(map(clean_prefix, df_bestmatch.Prefix.values.tolist())))\n",
    "    dist = int_bestmatch - clean_input\n",
    "    idx = np.where(dist == min(dist))[0]\n",
    "    if (len(idx) == 1):\n",
    "        return df_bestmatch[idx].reset_index(drop=True)\n",
    "    else:\n",
    "        df_bestmatch = df_bestmatch.iloc[idx,:]\n",
    "        best_prefix = df_bestmatch.Prefix_length.idxmax()\n",
    "        return df_bestmatch.iloc[best_prefix:best_prefix+1].reset_index(drop = True)\n",
    "        \n",
    "    \n",
    "        \n",
    "    "
   ]
  },
  {
   "cell_type": "code",
   "execution_count": 304,
   "metadata": {},
   "outputs": [],
   "source": [
    "iplist = pd.read_csv('IPlist.txt', sep=\" \", header=None).values"
   ]
  },
  {
   "cell_type": "code",
   "execution_count": 282,
   "metadata": {},
   "outputs": [
    {
     "data": {
      "text/plain": [
       "'12.125.142.19'"
      ]
     },
     "execution_count": 282,
     "metadata": {},
     "output_type": "execute_result"
    }
   ],
   "source": [
    "def iplist_convert(iplist,DB):\n",
    "    \"\"\"\n",
    "    iplist_convert: Takes in a list of string to be matched and performs longest prefix match\n",
    "            Args:\n",
    "                (numpyarray) iplist: numpy array with all of the iplists\n",
    "                (DataFrame) DB     : Dataframe with prefixes, prefix length, and AS number\n",
    "            Returns: \n",
    "                    output: output in the format expected\n",
    "    \"\"\"\n",
    "    m,_ = iplist.shape\n",
    "    output_df = pd.DataFrame(columns=[\"Prefix\", \"AS\", \"Input\"])\n",
    "    for i in range(m):\n",
    "        match = prefix_match(iplist[i][0], DB)\n",
    "        match.Prefix = match.Prefix[0] + \"/\" + str(match.Prefix_length[0])\n",
    "        match[\"Input\"] = iplist[i][0]\n",
    "        match.dr\n",
    "        \n",
    "        "
   ]
  },
  {
   "cell_type": "code",
   "execution_count": 288,
   "metadata": {},
   "outputs": [
    {
     "data": {
      "text/plain": [
       "Index(['Prefix', 'Prefix_length', 'AS'], dtype='object')"
      ]
     },
     "execution_count": 288,
     "metadata": {},
     "output_type": "execute_result"
    }
   ],
   "source": [
    "df.columns"
   ]
  },
  {
   "cell_type": "code",
   "execution_count": 302,
   "metadata": {},
   "outputs": [
    {
     "data": {
      "text/plain": [
       "'1.1.1.1/32'"
      ]
     },
     "execution_count": 302,
     "metadata": {},
     "output_type": "execute_result"
    }
   ],
   "source": [
    "df.iloc[0].Prefix + \"/\" + str(df.iloc[0].Prefix_length)"
   ]
  },
  {
   "cell_type": "code",
   "execution_count": 308,
   "metadata": {},
   "outputs": [
    {
     "data": {
      "text/plain": [
       "'12.105.69.152'"
      ]
     },
     "execution_count": 308,
     "metadata": {},
     "output_type": "execute_result"
    }
   ],
   "source": [
    "iplist[0][0]"
   ]
  },
  {
   "cell_type": "code",
   "execution_count": 328,
   "metadata": {},
   "outputs": [],
   "source": [
    " match = prefix_match(iplist[1][0], df)"
   ]
  },
  {
   "cell_type": "code",
   "execution_count": 329,
   "metadata": {},
   "outputs": [],
   "source": [
    "match.Prefix = match.Prefix[0] + \"/\" + str(match.Prefix_length[0])"
   ]
  },
  {
   "cell_type": "code",
   "execution_count": 332,
   "metadata": {},
   "outputs": [],
   "source": [
    "match[\"Input\"] = iplist[1][0]\n"
   ]
  },
  {
   "cell_type": "code",
   "execution_count": 334,
   "metadata": {},
   "outputs": [],
   "source": [
    "output_df = pd.DataFrame(columns=[\"Prefix\", \"AS\", \"Input\"])"
   ]
  },
  {
   "cell_type": "code",
   "execution_count": 336,
   "metadata": {},
   "outputs": [
    {
     "name": "stderr",
     "output_type": "stream",
     "text": [
      "/Users/atharvachalke/miniconda2/lib/python3.6/site-packages/ipykernel_launcher.py:1: FutureWarning: Sorting because non-concatenation axis is not aligned. A future version\n",
      "of pandas will change to not sort by default.\n",
      "\n",
      "To accept the future behavior, pass 'sort=False'.\n",
      "\n",
      "To retain the current behavior and silence the warning, pass 'sort=True'.\n",
      "\n",
      "  \"\"\"Entry point for launching an IPython kernel.\n"
     ]
    },
    {
     "data": {
      "text/html": [
       "<div>\n",
       "<style scoped>\n",
       "    .dataframe tbody tr th:only-of-type {\n",
       "        vertical-align: middle;\n",
       "    }\n",
       "\n",
       "    .dataframe tbody tr th {\n",
       "        vertical-align: top;\n",
       "    }\n",
       "\n",
       "    .dataframe thead th {\n",
       "        text-align: right;\n",
       "    }\n",
       "</style>\n",
       "<table border=\"1\" class=\"dataframe\">\n",
       "  <thead>\n",
       "    <tr style=\"text-align: right;\">\n",
       "      <th></th>\n",
       "      <th>AS</th>\n",
       "      <th>Input</th>\n",
       "      <th>Prefix</th>\n",
       "      <th>Prefix_length</th>\n",
       "    </tr>\n",
       "  </thead>\n",
       "  <tbody>\n",
       "    <tr>\n",
       "      <th>0</th>\n",
       "      <td>6402</td>\n",
       "      <td>12.125.142.19</td>\n",
       "      <td>12.125.142.16/30</td>\n",
       "      <td>30.0</td>\n",
       "    </tr>\n",
       "  </tbody>\n",
       "</table>\n",
       "</div>"
      ],
      "text/plain": [
       "     AS          Input            Prefix  Prefix_length\n",
       "0  6402  12.125.142.19  12.125.142.16/30           30.0"
      ]
     },
     "execution_count": 336,
     "metadata": {},
     "output_type": "execute_result"
    }
   ],
   "source": [
    "pd.concat((output_df, match))"
   ]
  },
  {
   "cell_type": "code",
   "execution_count": null,
   "metadata": {},
   "outputs": [],
   "source": []
  }
 ],
 "metadata": {
  "kernelspec": {
   "display_name": "Python 3",
   "language": "python",
   "name": "python3"
  },
  "language_info": {
   "codemirror_mode": {
    "name": "ipython",
    "version": 3
   },
   "file_extension": ".py",
   "mimetype": "text/x-python",
   "name": "python",
   "nbconvert_exporter": "python",
   "pygments_lexer": "ipython3",
   "version": "3.6.7"
  }
 },
 "nbformat": 4,
 "nbformat_minor": 2
}
